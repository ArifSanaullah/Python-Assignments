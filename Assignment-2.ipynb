{
 "cells": [
  {
   "cell_type": "code",
   "execution_count": 19,
   "metadata": {},
   "outputs": [
    {
     "name": "stdout",
     "output_type": "stream",
     "text": [
      "Enter Marks for Math : 1\n",
      "Enter Marks for Physics : 2\n",
      "Enter Marks for Computer : 3\n",
      "Enter Marks for English : 4\n",
      "Enter Marks for Ethics : 5\n",
      "Math : \t 1\n",
      "Physics : \t 2\n",
      "Computer : \t 3\n",
      "English : \t 4\n",
      "Ethics : \t 5\n",
      "Total obtained marks:  15\n"
     ]
    }
   ],
   "source": [
    "# 1. Write a program which takes 5 inputs from user for different subject’s\n",
    "# marks, total it and generate mark sheet using grades ?\n",
    "subjects = [\"Math\", \"Physics\", \"Computer\", \"English\", \"Ethics\"]\n",
    "marks = []\n",
    "for i in range(len(subjects)):\n",
    "    print(\"Enter Marks for\", subjects[i], \":\",end=\" \")\n",
    "    mark = int(input(\"\"))\n",
    "    marks.append(mark)\n",
    "for subject, mark in zip(subjects, marks):\n",
    "    print(subject,\": \\t\", mark)\n",
    "print(\"Total obtained marks: \",sum(marks))"
   ]
  },
  {
   "cell_type": "code",
   "execution_count": 29,
   "metadata": {},
   "outputs": [
    {
     "name": "stdout",
     "output_type": "stream",
     "text": [
      "Enter any number: 4\n",
      "Number is Even\n"
     ]
    }
   ],
   "source": [
    "# 2. Write a program which take input from user and identify that the given\n",
    "# number is even or odd?\n",
    "num = int(input(\"Enter any number: \"))\n",
    "if(num % 2 == 0):\n",
    "    print(\"Number is Even\")\n",
    "else:\n",
    "    print(\"Number if Odd\")"
   ]
  },
  {
   "cell_type": "code",
   "execution_count": 32,
   "metadata": {},
   "outputs": [
    {
     "name": "stdout",
     "output_type": "stream",
     "text": [
      "Length of list is:  5\n"
     ]
    }
   ],
   "source": [
    "# 3. Write a program which print the length of the list?\n",
    "my_list = [1,2,3,4,5]\n",
    "print(\"Length of list is: \",len(my_list))"
   ]
  },
  {
   "cell_type": "code",
   "execution_count": 43,
   "metadata": {},
   "outputs": [
    {
     "name": "stdout",
     "output_type": "stream",
     "text": [
      "Sum of all numerics in the list is:  15\n"
     ]
    }
   ],
   "source": [
    "# 4. Write a Python program to sum all the numeric items in a list?\n",
    "my_list = [1,2,3,4,5]\n",
    "print(\"Sum of all numerics in the list is: \",sum(my_list))"
   ]
  },
  {
   "cell_type": "code",
   "execution_count": 45,
   "metadata": {},
   "outputs": [
    {
     "name": "stdout",
     "output_type": "stream",
     "text": [
      "7\n"
     ]
    }
   ],
   "source": [
    "# 5. Write a Python program to get the largest number from a numeric list.\n",
    "my_list = [1,2,3,4,5,7]\n",
    "print(max(my_list))"
   ]
  },
  {
   "cell_type": "code",
   "execution_count": 47,
   "metadata": {},
   "outputs": [
    {
     "name": "stdout",
     "output_type": "stream",
     "text": [
      "0\n",
      "1\n",
      "2\n",
      "3\n",
      "4\n"
     ]
    }
   ],
   "source": [
    "# 6. Take a list, say for example this one:\n",
    "# a = [1, 1, 2, 3, 5, 8, 13, 21, 34, 55, 89]\n",
    "# and write a program that prints out all the elements of the list that are\n",
    "# less than 5.\n",
    "a = [1, 1, 2, 3, 5, 8, 13, 21, 34, 55, 89]\n",
    "for element in range(len(a)):\n",
    "    if(element < 5):\n",
    "        print(element)"
   ]
  },
  {
   "cell_type": "code",
   "execution_count": null,
   "metadata": {},
   "outputs": [],
   "source": []
  }
 ],
 "metadata": {
  "kernelspec": {
   "display_name": "Python 3",
   "language": "python",
   "name": "python3"
  },
  "language_info": {
   "codemirror_mode": {
    "name": "ipython",
    "version": 3
   },
   "file_extension": ".py",
   "mimetype": "text/x-python",
   "name": "python",
   "nbconvert_exporter": "python",
   "pygments_lexer": "ipython3",
   "version": "3.7.5rc1"
  }
 },
 "nbformat": 4,
 "nbformat_minor": 2
}
